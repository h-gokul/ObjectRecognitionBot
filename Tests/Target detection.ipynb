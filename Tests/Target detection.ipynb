{
 "cells": [
  {
   "cell_type": "markdown",
   "metadata": {},
   "source": [
    "# Code to load to pi"
   ]
  },
  {
   "cell_type": "code",
   "execution_count": 36,
   "metadata": {},
   "outputs": [],
   "source": [
    "import numpy as np\n",
    "import cv2\n",
    "import math\n",
    "\n",
    "class img_module:\n",
    "    def out(self,img):\n",
    "        cv2.imshow(\"img\",img)\n",
    "        cv2.waitKey()\n",
    "        cv2.destroyAllWindows()\n",
    "    def __init__(self):\n",
    "        self.angle_tolerance = 0.5\n",
    "        self.cap = cv2.VideoCapture(0)\n",
    "    def flush(self):\n",
    "        _,img = cap.read()\n",
    "    def read(self):\n",
    "        self.flush()\n",
    "        _,img = cap.read()\n",
    "        self.img = cv2.fastNlMeansDenoisingColored(img)\n",
    "    def get_img_target(self):\n",
    "        gray = cv2.cvtColor(self.img,cv2.COLOR_BGR2GRAY)\n",
    "        circles = cv2.HoughCircles(gray,cv2.HOUGH_GRADIENT,1,20,param1=50,param2=30,minRadius=0,maxRadius=0)\n",
    "        circles = np.uint16(np.around(circles))\n",
    "        i = circles[0,0]\n",
    "        centroid = (i[0],i[1])\n",
    "        hor = i[0] #longer side\n",
    "        ver = i[1] # shorter side\n",
    "        copy = self.img.copy()\n",
    "        dist = (((320 - hor)*(320 - hor)) + ((480-ver)*(480-ver)))**0.5\n",
    "        angle = math.atan((320-hor)/(480-ver)) # +ve if object is left ||  -ve if right\n",
    "        cv2.circle(copy,(320,480),2,(0,255,0),-1)\n",
    "        out(copy)\n",
    "        return centroid"
   ]
  },
  {
   "cell_type": "markdown",
   "metadata": {},
   "source": [
    "# Notebook and details"
   ]
  },
  {
   "cell_type": "code",
   "execution_count": 28,
   "metadata": {},
   "outputs": [],
   "source": [
    "import numpy as np\n",
    "import cv2\n",
    "import math\n",
    "\n",
    "def out(img):\n",
    "    cv2.imshow(\"img\",img)\n",
    "    cv2.waitKey()\n",
    "    cv2.destroyAllWindows()"
   ]
  },
  {
   "cell_type": "code",
   "execution_count": 2,
   "metadata": {},
   "outputs": [],
   "source": [
    "cap = cv2.VideoCapture(0)"
   ]
  },
  {
   "cell_type": "code",
   "execution_count": 5,
   "metadata": {},
   "outputs": [],
   "source": [
    "_,img = cap.read()\n",
    "img = cv2.fastNlMeansDenoisingColored(img)"
   ]
  },
  {
   "cell_type": "code",
   "execution_count": 6,
   "metadata": {},
   "outputs": [],
   "source": [
    "out(img)"
   ]
  },
  {
   "cell_type": "code",
   "execution_count": 7,
   "metadata": {},
   "outputs": [],
   "source": [
    "gray = cv2.cvtColor(img,cv2.COLOR_BGR2GRAY)"
   ]
  },
  {
   "cell_type": "code",
   "execution_count": 11,
   "metadata": {},
   "outputs": [],
   "source": [
    "out(gray)"
   ]
  },
  {
   "cell_type": "code",
   "execution_count": 12,
   "metadata": {},
   "outputs": [],
   "source": [
    "circles = cv2.HoughCircles(gray,cv2.HOUGH_GRADIENT,1,20,\n",
    "                            param1=50,param2=30,minRadius=0,maxRadius=0)"
   ]
  },
  {
   "cell_type": "code",
   "execution_count": 13,
   "metadata": {},
   "outputs": [],
   "source": [
    "circles = np.uint16(np.around(circles))"
   ]
  },
  {
   "cell_type": "code",
   "execution_count": 32,
   "metadata": {},
   "outputs": [],
   "source": [
    "copy = img.copy()"
   ]
  },
  {
   "cell_type": "code",
   "execution_count": 33,
   "metadata": {},
   "outputs": [],
   "source": [
    "out(copy)"
   ]
  },
  {
   "cell_type": "code",
   "execution_count": 34,
   "metadata": {},
   "outputs": [],
   "source": [
    "i = circles[0,0] #strongest circle\n",
    "cv2.circle(copy,(i[0],i[1]),i[2],(0,255,0),2)\n",
    "out(copy)"
   ]
  },
  {
   "cell_type": "code",
   "execution_count": 21,
   "metadata": {},
   "outputs": [
    {
     "name": "stdout",
     "output_type": "stream",
     "text": [
      "(466, 348)\n"
     ]
    }
   ],
   "source": [
    "centroid = (i[0],i[1])\n",
    "print centroid\n"
   ]
  },
  {
   "cell_type": "code",
   "execution_count": 29,
   "metadata": {},
   "outputs": [],
   "source": [
    "img.shape\n",
    "hor = i[0] #longer side\n",
    "ver = i[1] # shorter side\n",
    "dist = (((320 - hor)**2) + ((480-ver)**2))**0.5\n",
    "angle = math.atan((320-hor)/(480-ver)) # +ve if object is left ||  -ve if right\n",
    "cv2.circle(copy,(320,480),2,(0,255,0),-1)\n",
    "\n"
   ]
  },
  {
   "cell_type": "code",
   "execution_count": 31,
   "metadata": {},
   "outputs": [
    {
     "data": {
      "text/plain": [
       "196.82479518597245"
      ]
     },
     "execution_count": 31,
     "metadata": {},
     "output_type": "execute_result"
    }
   ],
   "source": [
    "dist"
   ]
  },
  {
   "cell_type": "code",
   "execution_count": null,
   "metadata": {},
   "outputs": [],
   "source": []
  },
  {
   "cell_type": "code",
   "execution_count": 10,
   "metadata": {},
   "outputs": [],
   "source": [
    "def trackBall(img=None):\n",
    "    if img is None:\n",
    "        _,img = cap.read()\n",
    "        gray = cv2.cvtColor(img,cv2.COLOR_BGR2GRAY)\n",
    "        gray = cv2.fastNlMeansDenoising(gray)\n",
    "#     out(gray)\n",
    "    circles = cv2.HoughCircles(gray,cv2.HOUGH_GRADIENT,1,20,param1=50,param2=30,minRadius=0,maxRadius=0)\n",
    "    if circles is None:\n",
    "        return\n",
    "    circles = np.uint16(np.around(circles))\n",
    "    strong_cir = circles[0,0] #strongest circle\n",
    "    cv2.circle(img,(strong_cir[0],strong_cir[1]),strong_cir[2],(0,255,0),2)\n",
    "    out(img)\n",
    "    return (strong_cir[0],strong_cir[1])"
   ]
  },
  {
   "cell_type": "code",
   "execution_count": 11,
   "metadata": {},
   "outputs": [],
   "source": [
    "pos = []\n",
    "count=10\n",
    "while count>0:\n",
    "    count-=1\n",
    "    pos.append(trackBall())\n",
    "    "
   ]
  },
  {
   "cell_type": "code",
   "execution_count": 12,
   "metadata": {},
   "outputs": [
    {
     "data": {
      "text/plain": [
       "[(336, 230),\n",
       " (336, 218),\n",
       " (314, 236),\n",
       " (510, 246),\n",
       " (522, 246),\n",
       " (496, 248),\n",
       " (326, 254),\n",
       " (340, 240),\n",
       " (226, 272),\n",
       " (404, 196)]"
      ]
     },
     "execution_count": 12,
     "metadata": {},
     "output_type": "execute_result"
    }
   ],
   "source": [
    "pos\n"
   ]
  },
  {
   "cell_type": "code",
   "execution_count": null,
   "metadata": {},
   "outputs": [],
   "source": []
  }
 ],
 "metadata": {
  "kernelspec": {
   "display_name": "Python 2",
   "language": "python",
   "name": "python2"
  },
  "language_info": {
   "codemirror_mode": {
    "name": "ipython",
    "version": 2
   },
   "file_extension": ".py",
   "mimetype": "text/x-python",
   "name": "python",
   "nbconvert_exporter": "python",
   "pygments_lexer": "ipython2",
   "version": "2.7.14"
  }
 },
 "nbformat": 4,
 "nbformat_minor": 2
}
